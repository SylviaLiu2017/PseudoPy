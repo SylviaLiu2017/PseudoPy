{
 "cells": [
  {
   "cell_type": "code",
   "execution_count": 1,
   "metadata": {
    "collapsed": true
   },
   "outputs": [],
   "source": [
    "import numpy as np\n",
    "import pandas as pd"
   ]
  },
  {
   "cell_type": "code",
   "execution_count": 2,
   "metadata": {},
   "outputs": [
    {
     "data": {
      "text/html": [
       "<div>\n",
       "<style>\n",
       "    .dataframe thead tr:only-child th {\n",
       "        text-align: right;\n",
       "    }\n",
       "\n",
       "    .dataframe thead th {\n",
       "        text-align: left;\n",
       "    }\n",
       "\n",
       "    .dataframe tbody tr th {\n",
       "        vertical-align: top;\n",
       "    }\n",
       "</style>\n",
       "<table border=\"1\" class=\"dataframe\">\n",
       "  <thead>\n",
       "    <tr style=\"text-align: right;\">\n",
       "      <th></th>\n",
       "      <th>0</th>\n",
       "      <th>1</th>\n",
       "      <th>2</th>\n",
       "      <th>3</th>\n",
       "      <th>4</th>\n",
       "      <th>5</th>\n",
       "      <th>6</th>\n",
       "      <th>7</th>\n",
       "      <th>8</th>\n",
       "      <th>9</th>\n",
       "      <th>...</th>\n",
       "      <th>11</th>\n",
       "      <th>12</th>\n",
       "      <th>13</th>\n",
       "      <th>14</th>\n",
       "      <th>15</th>\n",
       "      <th>16</th>\n",
       "      <th>17</th>\n",
       "      <th>18</th>\n",
       "      <th>19</th>\n",
       "      <th>20</th>\n",
       "    </tr>\n",
       "  </thead>\n",
       "  <tbody>\n",
       "    <tr>\n",
       "      <th>0</th>\n",
       "      <td>NaN</td>\n",
       "      <td>V1</td>\n",
       "      <td>V2</td>\n",
       "      <td>V3</td>\n",
       "      <td>V4</td>\n",
       "      <td>V5</td>\n",
       "      <td>V6</td>\n",
       "      <td>V7</td>\n",
       "      <td>V8</td>\n",
       "      <td>V9</td>\n",
       "      <td>...</td>\n",
       "      <td>V11</td>\n",
       "      <td>V12</td>\n",
       "      <td>V13</td>\n",
       "      <td>V14</td>\n",
       "      <td>V15</td>\n",
       "      <td>V16</td>\n",
       "      <td>V17</td>\n",
       "      <td>V18</td>\n",
       "      <td>V19</td>\n",
       "      <td>V20</td>\n",
       "    </tr>\n",
       "    <tr>\n",
       "      <th>1</th>\n",
       "      <td>1.0</td>\n",
       "      <td>2</td>\n",
       "      <td>3</td>\n",
       "      <td>4</td>\n",
       "      <td>7</td>\n",
       "      <td>5</td>\n",
       "      <td>10</td>\n",
       "      <td>6</td>\n",
       "      <td>1</td>\n",
       "      <td>11</td>\n",
       "      <td>...</td>\n",
       "      <td>8</td>\n",
       "      <td>13</td>\n",
       "      <td>17</td>\n",
       "      <td>20</td>\n",
       "      <td>15</td>\n",
       "      <td>18</td>\n",
       "      <td>9</td>\n",
       "      <td>14</td>\n",
       "      <td>16</td>\n",
       "      <td>19</td>\n",
       "    </tr>\n",
       "    <tr>\n",
       "      <th>2</th>\n",
       "      <td>2.0</td>\n",
       "      <td>2</td>\n",
       "      <td>1</td>\n",
       "      <td>5</td>\n",
       "      <td>4</td>\n",
       "      <td>6</td>\n",
       "      <td>7</td>\n",
       "      <td>10</td>\n",
       "      <td>8</td>\n",
       "      <td>11</td>\n",
       "      <td>...</td>\n",
       "      <td>13</td>\n",
       "      <td>15</td>\n",
       "      <td>14</td>\n",
       "      <td>18</td>\n",
       "      <td>9</td>\n",
       "      <td>17</td>\n",
       "      <td>3</td>\n",
       "      <td>20</td>\n",
       "      <td>19</td>\n",
       "      <td>16</td>\n",
       "    </tr>\n",
       "    <tr>\n",
       "      <th>3</th>\n",
       "      <td>3.0</td>\n",
       "      <td>5</td>\n",
       "      <td>11</td>\n",
       "      <td>4</td>\n",
       "      <td>6</td>\n",
       "      <td>14</td>\n",
       "      <td>12</td>\n",
       "      <td>15</td>\n",
       "      <td>20</td>\n",
       "      <td>9</td>\n",
       "      <td>...</td>\n",
       "      <td>7</td>\n",
       "      <td>13</td>\n",
       "      <td>18</td>\n",
       "      <td>16</td>\n",
       "      <td>1</td>\n",
       "      <td>2</td>\n",
       "      <td>17</td>\n",
       "      <td>3</td>\n",
       "      <td>19</td>\n",
       "      <td>8</td>\n",
       "    </tr>\n",
       "    <tr>\n",
       "      <th>4</th>\n",
       "      <td>4.0</td>\n",
       "      <td>16</td>\n",
       "      <td>3</td>\n",
       "      <td>6</td>\n",
       "      <td>8</td>\n",
       "      <td>12</td>\n",
       "      <td>1</td>\n",
       "      <td>19</td>\n",
       "      <td>2</td>\n",
       "      <td>15</td>\n",
       "      <td>...</td>\n",
       "      <td>11</td>\n",
       "      <td>18</td>\n",
       "      <td>9</td>\n",
       "      <td>20</td>\n",
       "      <td>17</td>\n",
       "      <td>10</td>\n",
       "      <td>4</td>\n",
       "      <td>5</td>\n",
       "      <td>13</td>\n",
       "      <td>7</td>\n",
       "    </tr>\n",
       "  </tbody>\n",
       "</table>\n",
       "<p>5 rows × 21 columns</p>\n",
       "</div>"
      ],
      "text/plain": [
       "    0   1   2   3   4   5   6   7   8   9  ...    11   12   13   14   15   16  \\\n",
       "0  NaN  V1  V2  V3  V4  V5  V6  V7  V8  V9 ...   V11  V12  V13  V14  V15  V16   \n",
       "1  1.0   2   3   4   7   5  10   6   1  11 ...     8   13   17   20   15   18   \n",
       "2  2.0   2   1   5   4   6   7  10   8  11 ...    13   15   14   18    9   17   \n",
       "3  3.0   5  11   4   6  14  12  15  20   9 ...     7   13   18   16    1    2   \n",
       "4  4.0  16   3   6   8  12   1  19   2  15 ...    11   18    9   20   17   10   \n",
       "\n",
       "    17   18   19   20  \n",
       "0  V17  V18  V19  V20  \n",
       "1    9   14   16   19  \n",
       "2    3   20   19   16  \n",
       "3   17    3   19    8  \n",
       "4    4    5   13    7  \n",
       "\n",
       "[5 rows x 21 columns]"
      ]
     },
     "execution_count": 2,
     "metadata": {},
     "output_type": "execute_result"
    }
   ],
   "source": [
    "df = pd.read_csv('./datasets/data_n20_N200.csv',sep=',',header=None)\n",
    "df.head()"
   ]
  },
  {
   "cell_type": "code",
   "execution_count": 3,
   "metadata": {
    "collapsed": true
   },
   "outputs": [],
   "source": [
    "data_arr = np.array(df.loc[1:,1:],dtype=int)\n",
    "#data_arr = np.concatenate((data_arr,data_arr))\n",
    "#data_arr = np.concatenate((data_arr,data_arr))\n",
    "#data_arr = np.concatenate((data_arr,data_arr))\n",
    "#data_arr = np.concatenate((data_arr,data_arr))\n",
    "#data_arr = np.concatenate((data_arr,data_arr))\n",
    "n =data_arr.shape[1]\n",
    "N =data_arr.shape[0]"
   ]
  },
  {
   "cell_type": "code",
   "execution_count": 4,
   "metadata": {
    "collapsed": true
   },
   "outputs": [],
   "source": [
    "def generate_V(centre):\n",
    "    centre_arr = np.array(centre)\n",
    "    n = len(centre_arr)\n",
    "    V_order = np.zeros(n)\n",
    "    distToCentre = V_order\n",
    "    distToCentre = centre_arr - (np.max(centre_arr)+1)/2\n",
    "    if(n%2):\n",
    "        V_order[distToCentre==0] = 1\n",
    "    for i in distToCentre[distToCentre>0]:\n",
    "        if (np.random.rand()>0.5):\n",
    "            V_order[distToCentre == i] = abs(i)*2+1\n",
    "            V_order[distToCentre == -i] = abs(i)*2\n",
    "        else:\n",
    "            V_order[distToCentre == i] = abs(i)*2\n",
    "            V_order[distToCentre == -i] = abs(i)*2+1\n",
    "            \n",
    "    return V_order"
   ]
  },
  {
   "cell_type": "code",
   "execution_count": 5,
   "metadata": {
    "collapsed": true
   },
   "outputs": [],
   "source": [
    "def rank(ls):\n",
    "    arr = np.array(ls)\n",
    "    ordering = np.argsort(arr)\n",
    "    ranks = np.empty_like(ordering)\n",
    "    ranks[ordering] = np.arange(len(arr))+1\n",
    "    return ranks"
   ]
  },
  {
   "cell_type": "code",
   "execution_count": 6,
   "metadata": {
    "collapsed": true
   },
   "outputs": [],
   "source": [
    "def pseudo_likelihood(data,n_samples,alpha):\n",
    "    data_arr = np.array(data)\n",
    "    N = data_arr.shape[0]\n",
    "    n = data_arr.shape[1]\n",
    "    rho_samples = np.zeros((n_samples,n),dtype=int)\n",
    "    data_rank = rank(np.sum(data_arr,axis=0))\n",
    "    for i in range(n_samples): #should be easily parallelized?\n",
    "        if((i+1)%100==0):\n",
    "            print(i+1 ,\"/\", n_samples, \"iterations\")\n",
    "        support = np.arange(0,n)\n",
    "        rho_tmp = np.zeros(n, dtype = int)\n",
    "        V_centre = generate_V(data_rank)\n",
    "        for j in range(n):\n",
    "            i_curr = np.where(V_centre ==(j+1))\n",
    "            ####calculating the distance from the data to the possible value\n",
    "            dists = np.array(list(map(lambda x: np.sum(abs(data_arr[:,i_curr].ravel() - x)),(support+1))))\n",
    "            log_num =(-alpha/(n)*(dists)) - np.max(-alpha/(n)*(dists))  #minus the max to stablize the exponential term\n",
    "            log_denom = np.log(np.sum(np.exp(log_num)))\n",
    "            ###to be very sure that it sums to one, therefore devide by its sum\n",
    "            probs= np.exp((log_num-log_denom)) / np.sum(np.exp((log_num-log_denom))) \n",
    "            index = int(np.where(np.random.multinomial(n=1, pvals = probs)==1)[0])\n",
    "            rho_tmp[i_curr] = support[index]\n",
    "            support = support[support!=rho_tmp[i_curr]]\n",
    "       \n",
    "        rho_samples[i,:] = rho_tmp+1\n",
    "           \n",
    "    return rho_samples\n"
   ]
  },
  {
   "cell_type": "code",
   "execution_count": 7,
   "metadata": {},
   "outputs": [
    {
     "name": "stdout",
     "output_type": "stream",
     "text": [
      "100 / 3000 iterations\n",
      "200 / 3000 iterations\n",
      "300 / 3000 iterations\n",
      "400 / 3000 iterations\n",
      "500 / 3000 iterations\n",
      "600 / 3000 iterations\n",
      "700 / 3000 iterations\n",
      "800 / 3000 iterations\n",
      "900 / 3000 iterations\n",
      "1000 / 3000 iterations\n",
      "1100 / 3000 iterations\n",
      "1200 / 3000 iterations\n",
      "1300 / 3000 iterations\n",
      "1400 / 3000 iterations\n",
      "1500 / 3000 iterations\n",
      "1600 / 3000 iterations\n",
      "1700 / 3000 iterations\n",
      "1800 / 3000 iterations\n",
      "1900 / 3000 iterations\n",
      "2000 / 3000 iterations\n",
      "2100 / 3000 iterations\n",
      "2200 / 3000 iterations\n",
      "2300 / 3000 iterations\n",
      "2400 / 3000 iterations\n",
      "2500 / 3000 iterations\n",
      "2600 / 3000 iterations\n",
      "2700 / 3000 iterations\n",
      "2800 / 3000 iterations\n",
      "2900 / 3000 iterations\n",
      "3000 / 3000 iterations\n",
      "9.073 seconds elapsed\n"
     ]
    }
   ],
   "source": [
    "n_samples = 3000\n",
    "import time\n",
    "start = time.time()\n",
    "rho_samples=pseudo_likelihood(data_arr,n_samples,2.)\n",
    "end = time.time()\n",
    "#print(end-start)\n",
    "print(np.round(end - start,3),\"seconds elapsed\")"
   ]
  },
  {
   "cell_type": "code",
   "execution_count": 8,
   "metadata": {
    "collapsed": true
   },
   "outputs": [],
   "source": [
    "import matplotlib\n",
    "import matplotlib.pyplot as plt\n",
    "%matplotlib inline"
   ]
  },
  {
   "cell_type": "code",
   "execution_count": 9,
   "metadata": {},
   "outputs": [
    {
     "data": {
      "text/plain": [
       "array([[ 2,  1,  4, ..., 19, 16, 20],\n",
       "       [ 2,  1,  4, ..., 19, 16, 20],\n",
       "       [ 2,  1,  4, ..., 19, 16, 20],\n",
       "       ...,\n",
       "       [ 2,  1,  4, ..., 19, 16, 20],\n",
       "       [ 2,  1,  4, ..., 19, 16, 20],\n",
       "       [ 2,  1,  4, ..., 19, 16, 20]])"
      ]
     },
     "execution_count": 9,
     "metadata": {},
     "output_type": "execute_result"
    }
   ],
   "source": [
    "rho_samples"
   ]
  },
  {
   "cell_type": "code",
   "execution_count": 10,
   "metadata": {
    "collapsed": true
   },
   "outputs": [],
   "source": [
    "heatMat=(np.array(list(map(lambda x: np.sum(rho_samples == x,axis=0), (np.arange(1,1+n)))))/n_samples).T[::-1]"
   ]
  },
  {
   "cell_type": "code",
   "execution_count": 11,
   "metadata": {
    "collapsed": true
   },
   "outputs": [],
   "source": [
    "def heatmap(data, row_labels, col_labels, ax=None,\n",
    "            cbar_kw={}, cbarlabel=\"\", **kwargs):\n",
    "    \"\"\"\n",
    "    Create a heatmap from a numpy array and two lists of labels.\n",
    "\n",
    "    Parameters\n",
    "    ----------\n",
    "    data\n",
    "        A 2D numpy array of shape (N, M).\n",
    "    row_labels\n",
    "        A list or array of length N with the labels for the rows.\n",
    "    col_labels\n",
    "        A list or array of length M with the labels for the columns.\n",
    "    ax\n",
    "        A `matplotlib.axes.Axes` instance to which the heatmap is plotted.  If\n",
    "        not provided, use current axes or create a new one.  Optional.\n",
    "    cbar_kw\n",
    "        A dictionary with arguments to `matplotlib.Figure.colorbar`.  Optional.\n",
    "    cbarlabel\n",
    "        The label for the colorbar.  Optional.\n",
    "    **kwargs\n",
    "        All other arguments are forwarded to `imshow`.\n",
    "    \"\"\"\n",
    "\n",
    "    if not ax:\n",
    "        ax = plt.gca()\n",
    "\n",
    "    # Plot the heatmap\n",
    "    im = ax.imshow(data, **kwargs)\n",
    "\n",
    "    # Create colorbar\n",
    "    cbar = ax.figure.colorbar(im, ax=ax, **cbar_kw)\n",
    "    cbar.ax.set_ylabel(cbarlabel, rotation=-90, va=\"bottom\")\n",
    "\n",
    "    # We want to show all ticks...\n",
    "    ax.set_xticks(np.arange(data.shape[1]))\n",
    "    ax.set_yticks(np.arange(data.shape[0]))\n",
    "    # ... and label them with the respective list entries.\n",
    "    ax.set_xticklabels(col_labels)\n",
    "    ax.set_yticklabels(row_labels)\n",
    "\n",
    "    # Let the horizontal axes labeling appear in the bottom.\n",
    "    ax.tick_params(top=False, bottom=True,\n",
    "                   labeltop=False, labelbottom=True)\n",
    "\n",
    "    # Rotate the tick labels and set their alignment.\n",
    "    plt.setp(ax.get_xticklabels(), rotation=-30, ha=\"right\",\n",
    "             rotation_mode=\"anchor\")\n",
    "\n",
    "    # Turn spines off and create white grid.\n",
    "    for edge, spine in ax.spines.items():\n",
    "        spine.set_visible(False)\n",
    "\n",
    "    ax.set_xticks(np.arange(data.shape[1]+1)-.5, minor=True)\n",
    "    ax.set_yticks(np.arange(data.shape[0]+1)-.5, minor=True)\n",
    "    ax.grid(which=\"minor\", color=\"w\", linestyle='-', linewidth=3)\n",
    "    ax.tick_params(which=\"minor\", bottom=False, left=False)\n",
    "\n",
    "    return im, cbar\n"
   ]
  },
  {
   "cell_type": "code",
   "execution_count": 12,
   "metadata": {},
   "outputs": [
    {
     "data": {
      "image/png": "[encoded data removed]",
      "text/plain": [
       "<matplotlib.figure.Figure at 0x11ad65240>"
      ]
     },
     "metadata": {},
     "output_type": "display_data"
    }
   ],
   "source": [
    "fig, ax = plt.subplots()\n",
    "\n",
    "im, cbar = heatmap(heatMat, reversed(np.arange(1,n+1)), (np.arange(1,n+1)), ax=ax,\n",
    "                   cmap=\"coolwarm\", cbarlabel= \"probability\")"
   ]
  },
  {
   "cell_type": "code",
   "execution_count": 13,
   "metadata": {
    "collapsed": true
   },
   "outputs": [],
   "source": [
    "#fig, ax = plt.subplots()\n",
    "#im = ax.imshow(heatMat)"
   ]
  }
 ],
 "metadata": {
  "kernelspec": {
   "display_name": "Python 3",
   "language": "python",
   "name": "python3"
  },
  "language_info": {
   "codemirror_mode": {
    "name": "ipython",
    "version": 3
   },
   "file_extension": ".py",
   "mimetype": "text/x-python",
   "name": "python",
   "nbconvert_exporter": "python",
   "pygments_lexer": "ipython3",
   "version": "3.6.8"
  }
 },
 "nbformat": 4,
 "nbformat_minor": 2
}
