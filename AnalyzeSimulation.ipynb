{
 "cells": [
  {
   "cell_type": "code",
   "execution_count": 151,
   "metadata": {
    "collapsed": true
   },
   "outputs": [],
   "source": [
    "import pandas as pd\n",
    "import numpy as np\n",
    "import matplotlib.pyplot as plt\n",
    "%matplotlib inline"
   ]
  },
  {
   "cell_type": "code",
   "execution_count": 681,
   "metadata": {
    "collapsed": true
   },
   "outputs": [],
   "source": [
    "N=1000\n",
    "n=50"
   ]
  },
  {
   "cell_type": "code",
   "execution_count": 682,
   "metadata": {},
   "outputs": [
    {
     "data": {
      "text/plain": [
       "'./SimulationResults/KLTables/N1000n50.csv'"
      ]
     },
     "execution_count": 682,
     "metadata": {},
     "output_type": "execute_result"
    }
   ],
   "source": [
    "filename = \"./SimulationResults/KLTables/N%dn%d.csv\" %(N,n)\n",
    "filename"
   ]
  },
  {
   "cell_type": "code",
   "execution_count": 683,
   "metadata": {},
   "outputs": [
    {
     "data": {
      "text/html": [
       "<div>\n",
       "<style>\n",
       "    .dataframe thead tr:only-child th {\n",
       "        text-align: right;\n",
       "    }\n",
       "\n",
       "    .dataframe thead th {\n",
       "        text-align: left;\n",
       "    }\n",
       "\n",
       "    .dataframe tbody tr th {\n",
       "        vertical-align: top;\n",
       "    }\n",
       "</style>\n",
       "<table border=\"1\" class=\"dataframe\">\n",
       "  <thead>\n",
       "    <tr style=\"text-align: right;\">\n",
       "      <th></th>\n",
       "      <th>N</th>\n",
       "      <th>n</th>\n",
       "      <th>run</th>\n",
       "      <th>alpha0</th>\n",
       "      <th>sd_data</th>\n",
       "      <th>sigma</th>\n",
       "      <th>KL</th>\n",
       "    </tr>\n",
       "  </thead>\n",
       "  <tbody>\n",
       "    <tr>\n",
       "      <th>0</th>\n",
       "      <td>1000</td>\n",
       "      <td>50</td>\n",
       "      <td>10</td>\n",
       "      <td>0.5</td>\n",
       "      <td>14.116545</td>\n",
       "      <td>0.00</td>\n",
       "      <td>464.958530</td>\n",
       "    </tr>\n",
       "    <tr>\n",
       "      <th>1</th>\n",
       "      <td>1000</td>\n",
       "      <td>50</td>\n",
       "      <td>10</td>\n",
       "      <td>0.5</td>\n",
       "      <td>14.116545</td>\n",
       "      <td>0.75</td>\n",
       "      <td>399.721375</td>\n",
       "    </tr>\n",
       "    <tr>\n",
       "      <th>2</th>\n",
       "      <td>1000</td>\n",
       "      <td>50</td>\n",
       "      <td>10</td>\n",
       "      <td>0.5</td>\n",
       "      <td>14.116545</td>\n",
       "      <td>1.50</td>\n",
       "      <td>306.365478</td>\n",
       "    </tr>\n",
       "    <tr>\n",
       "      <th>3</th>\n",
       "      <td>1000</td>\n",
       "      <td>50</td>\n",
       "      <td>10</td>\n",
       "      <td>0.5</td>\n",
       "      <td>14.116545</td>\n",
       "      <td>2.25</td>\n",
       "      <td>231.254791</td>\n",
       "    </tr>\n",
       "    <tr>\n",
       "      <th>4</th>\n",
       "      <td>1000</td>\n",
       "      <td>50</td>\n",
       "      <td>10</td>\n",
       "      <td>0.5</td>\n",
       "      <td>14.116545</td>\n",
       "      <td>3.00</td>\n",
       "      <td>167.530414</td>\n",
       "    </tr>\n",
       "  </tbody>\n",
       "</table>\n",
       "</div>"
      ],
      "text/plain": [
       "      N   n  run  alpha0    sd_data  sigma          KL\n",
       "0  1000  50   10     0.5  14.116545   0.00  464.958530\n",
       "1  1000  50   10     0.5  14.116545   0.75  399.721375\n",
       "2  1000  50   10     0.5  14.116545   1.50  306.365478\n",
       "3  1000  50   10     0.5  14.116545   2.25  231.254791\n",
       "4  1000  50   10     0.5  14.116545   3.00  167.530414"
      ]
     },
     "execution_count": 683,
     "metadata": {},
     "output_type": "execute_result"
    }
   ],
   "source": [
    "df = pd.read_csv(filename)\n",
    "df = df.iloc[:,1:]\n",
    "df.head()"
   ]
  },
  {
   "cell_type": "code",
   "execution_count": 684,
   "metadata": {},
   "outputs": [
    {
     "data": {
      "text/html": [
       "<div>\n",
       "<style>\n",
       "    .dataframe thead tr:only-child th {\n",
       "        text-align: right;\n",
       "    }\n",
       "\n",
       "    .dataframe thead th {\n",
       "        text-align: left;\n",
       "    }\n",
       "\n",
       "    .dataframe tbody tr th {\n",
       "        vertical-align: top;\n",
       "    }\n",
       "</style>\n",
       "<table border=\"1\" class=\"dataframe\">\n",
       "  <thead>\n",
       "    <tr style=\"text-align: right;\">\n",
       "      <th></th>\n",
       "      <th>N</th>\n",
       "      <th>n</th>\n",
       "      <th>run</th>\n",
       "      <th>alpha0</th>\n",
       "      <th>sd_data</th>\n",
       "      <th>sigma</th>\n",
       "      <th>KL</th>\n",
       "    </tr>\n",
       "  </thead>\n",
       "  <tbody>\n",
       "    <tr>\n",
       "      <th>6432</th>\n",
       "      <td>1000</td>\n",
       "      <td>50</td>\n",
       "      <td>10</td>\n",
       "      <td>0.5</td>\n",
       "      <td>14.223686</td>\n",
       "      <td>0.00</td>\n",
       "      <td>520.764238</td>\n",
       "    </tr>\n",
       "    <tr>\n",
       "      <th>6474</th>\n",
       "      <td>1000</td>\n",
       "      <td>50</td>\n",
       "      <td>10</td>\n",
       "      <td>0.5</td>\n",
       "      <td>14.223686</td>\n",
       "      <td>31.50</td>\n",
       "      <td>28.649534</td>\n",
       "    </tr>\n",
       "    <tr>\n",
       "      <th>6480</th>\n",
       "      <td>1000</td>\n",
       "      <td>50</td>\n",
       "      <td>10</td>\n",
       "      <td>0.5</td>\n",
       "      <td>14.223686</td>\n",
       "      <td>36.00</td>\n",
       "      <td>29.942679</td>\n",
       "    </tr>\n",
       "    <tr>\n",
       "      <th>6479</th>\n",
       "      <td>1000</td>\n",
       "      <td>50</td>\n",
       "      <td>10</td>\n",
       "      <td>0.5</td>\n",
       "      <td>14.223686</td>\n",
       "      <td>35.25</td>\n",
       "      <td>29.862281</td>\n",
       "    </tr>\n",
       "    <tr>\n",
       "      <th>6478</th>\n",
       "      <td>1000</td>\n",
       "      <td>50</td>\n",
       "      <td>10</td>\n",
       "      <td>0.5</td>\n",
       "      <td>14.223686</td>\n",
       "      <td>34.50</td>\n",
       "      <td>29.628010</td>\n",
       "    </tr>\n",
       "  </tbody>\n",
       "</table>\n",
       "</div>"
      ],
      "text/plain": [
       "         N   n  run  alpha0    sd_data  sigma          KL\n",
       "6432  1000  50   10     0.5  14.223686   0.00  520.764238\n",
       "6474  1000  50   10     0.5  14.223686  31.50   28.649534\n",
       "6480  1000  50   10     0.5  14.223686  36.00   29.942679\n",
       "6479  1000  50   10     0.5  14.223686  35.25   29.862281\n",
       "6478  1000  50   10     0.5  14.223686  34.50   29.628010"
      ]
     },
     "execution_count": 684,
     "metadata": {},
     "output_type": "execute_result"
    }
   ],
   "source": [
    "df.sort_values(by='sd_data',ascending=False).head()"
   ]
  },
  {
   "cell_type": "code",
   "execution_count": 685,
   "metadata": {},
   "outputs": [
    {
     "data": {
      "text/html": [
       "<div>\n",
       "<style>\n",
       "    .dataframe thead tr:only-child th {\n",
       "        text-align: right;\n",
       "    }\n",
       "\n",
       "    .dataframe thead th {\n",
       "        text-align: left;\n",
       "    }\n",
       "\n",
       "    .dataframe tbody tr th {\n",
       "        vertical-align: top;\n",
       "    }\n",
       "</style>\n",
       "<table border=\"1\" class=\"dataframe\">\n",
       "  <thead>\n",
       "    <tr style=\"text-align: right;\">\n",
       "      <th></th>\n",
       "      <th>N</th>\n",
       "      <th>n</th>\n",
       "      <th>run</th>\n",
       "      <th>alpha0</th>\n",
       "      <th>sd_data</th>\n",
       "      <th>sigma</th>\n",
       "      <th>KL</th>\n",
       "    </tr>\n",
       "  </thead>\n",
       "  <tbody>\n",
       "    <tr>\n",
       "      <th>0</th>\n",
       "      <td>1000</td>\n",
       "      <td>50</td>\n",
       "      <td>10</td>\n",
       "      <td>0.5</td>\n",
       "      <td>14.11655</td>\n",
       "      <td>0.00</td>\n",
       "      <td>464.95853</td>\n",
       "    </tr>\n",
       "    <tr>\n",
       "      <th>1</th>\n",
       "      <td>1000</td>\n",
       "      <td>50</td>\n",
       "      <td>10</td>\n",
       "      <td>0.5</td>\n",
       "      <td>14.11655</td>\n",
       "      <td>0.75</td>\n",
       "      <td>399.72138</td>\n",
       "    </tr>\n",
       "    <tr>\n",
       "      <th>2</th>\n",
       "      <td>1000</td>\n",
       "      <td>50</td>\n",
       "      <td>10</td>\n",
       "      <td>0.5</td>\n",
       "      <td>14.11655</td>\n",
       "      <td>1.50</td>\n",
       "      <td>306.36548</td>\n",
       "    </tr>\n",
       "    <tr>\n",
       "      <th>3</th>\n",
       "      <td>1000</td>\n",
       "      <td>50</td>\n",
       "      <td>10</td>\n",
       "      <td>0.5</td>\n",
       "      <td>14.11655</td>\n",
       "      <td>2.25</td>\n",
       "      <td>231.25479</td>\n",
       "    </tr>\n",
       "    <tr>\n",
       "      <th>4</th>\n",
       "      <td>1000</td>\n",
       "      <td>50</td>\n",
       "      <td>10</td>\n",
       "      <td>0.5</td>\n",
       "      <td>14.11655</td>\n",
       "      <td>3.00</td>\n",
       "      <td>167.53041</td>\n",
       "    </tr>\n",
       "  </tbody>\n",
       "</table>\n",
       "</div>"
      ],
      "text/plain": [
       "      N   n  run  alpha0   sd_data  sigma         KL\n",
       "0  1000  50   10     0.5  14.11655   0.00  464.95853\n",
       "1  1000  50   10     0.5  14.11655   0.75  399.72138\n",
       "2  1000  50   10     0.5  14.11655   1.50  306.36548\n",
       "3  1000  50   10     0.5  14.11655   2.25  231.25479\n",
       "4  1000  50   10     0.5  14.11655   3.00  167.53041"
      ]
     },
     "execution_count": 685,
     "metadata": {},
     "output_type": "execute_result"
    }
   ],
   "source": [
    "df['sd_data'] = np.round(df.sd_data,5)\n",
    "df['sigma'] = np.round(df.sigma,3)\n",
    "df['KL'] = np.round(df.KL,5)\n",
    "df.head()"
   ]
  },
  {
   "cell_type": "code",
   "execution_count": 686,
   "metadata": {},
   "outputs": [],
   "source": [
    "minKLs = np.array(df.groupby('sd_data')['KL'].min())\n",
    "sds = np.array(pd.DataFrame(df.groupby('sd_data')['sd_data'].unique()).index)"
   ]
  },
  {
   "cell_type": "code",
   "execution_count": 687,
   "metadata": {},
   "outputs": [
    {
     "name": "stdout",
     "output_type": "stream",
     "text": [
      "160\n",
      "160\n"
     ]
    },
    {
     "data": {
      "text/html": [
       "<div>\n",
       "<style>\n",
       "    .dataframe thead tr:only-child th {\n",
       "        text-align: right;\n",
       "    }\n",
       "\n",
       "    .dataframe thead th {\n",
       "        text-align: left;\n",
       "    }\n",
       "\n",
       "    .dataframe tbody tr th {\n",
       "        vertical-align: top;\n",
       "    }\n",
       "</style>\n",
       "<table border=\"1\" class=\"dataframe\">\n",
       "  <thead>\n",
       "    <tr style=\"text-align: right;\">\n",
       "      <th></th>\n",
       "      <th>N</th>\n",
       "      <th>n</th>\n",
       "      <th>run</th>\n",
       "      <th>alpha0</th>\n",
       "      <th>sd_data</th>\n",
       "      <th>sigma</th>\n",
       "      <th>KL</th>\n",
       "    </tr>\n",
       "  </thead>\n",
       "  <tbody>\n",
       "    <tr>\n",
       "      <th>0</th>\n",
       "      <td>1000</td>\n",
       "      <td>50</td>\n",
       "      <td>10</td>\n",
       "      <td>0.5</td>\n",
       "      <td>14.11655</td>\n",
       "      <td>0.00</td>\n",
       "      <td>464.95853</td>\n",
       "    </tr>\n",
       "    <tr>\n",
       "      <th>1</th>\n",
       "      <td>1000</td>\n",
       "      <td>50</td>\n",
       "      <td>10</td>\n",
       "      <td>0.5</td>\n",
       "      <td>14.11655</td>\n",
       "      <td>0.75</td>\n",
       "      <td>399.72138</td>\n",
       "    </tr>\n",
       "    <tr>\n",
       "      <th>2</th>\n",
       "      <td>1000</td>\n",
       "      <td>50</td>\n",
       "      <td>10</td>\n",
       "      <td>0.5</td>\n",
       "      <td>14.11655</td>\n",
       "      <td>1.50</td>\n",
       "      <td>306.36548</td>\n",
       "    </tr>\n",
       "    <tr>\n",
       "      <th>3</th>\n",
       "      <td>1000</td>\n",
       "      <td>50</td>\n",
       "      <td>10</td>\n",
       "      <td>0.5</td>\n",
       "      <td>14.11655</td>\n",
       "      <td>2.25</td>\n",
       "      <td>231.25479</td>\n",
       "    </tr>\n",
       "    <tr>\n",
       "      <th>4</th>\n",
       "      <td>1000</td>\n",
       "      <td>50</td>\n",
       "      <td>10</td>\n",
       "      <td>0.5</td>\n",
       "      <td>14.11655</td>\n",
       "      <td>3.00</td>\n",
       "      <td>167.53041</td>\n",
       "    </tr>\n",
       "  </tbody>\n",
       "</table>\n",
       "</div>"
      ],
      "text/plain": [
       "      N   n  run  alpha0   sd_data  sigma         KL\n",
       "0  1000  50   10     0.5  14.11655   0.00  464.95853\n",
       "1  1000  50   10     0.5  14.11655   0.75  399.72138\n",
       "2  1000  50   10     0.5  14.11655   1.50  306.36548\n",
       "3  1000  50   10     0.5  14.11655   2.25  231.25479\n",
       "4  1000  50   10     0.5  14.11655   3.00  167.53041"
      ]
     },
     "execution_count": 687,
     "metadata": {},
     "output_type": "execute_result"
    }
   ],
   "source": [
    "print(len(sds))\n",
    "print(len(minKLs))\n",
    "df.head()"
   ]
  },
  {
   "cell_type": "code",
   "execution_count": 688,
   "metadata": {},
   "outputs": [
    {
     "data": {
      "text/html": [
       "<div>\n",
       "<style>\n",
       "    .dataframe thead tr:only-child th {\n",
       "        text-align: right;\n",
       "    }\n",
       "\n",
       "    .dataframe thead th {\n",
       "        text-align: left;\n",
       "    }\n",
       "\n",
       "    .dataframe tbody tr th {\n",
       "        vertical-align: top;\n",
       "    }\n",
       "</style>\n",
       "<table border=\"1\" class=\"dataframe\">\n",
       "  <thead>\n",
       "    <tr style=\"text-align: right;\">\n",
       "      <th></th>\n",
       "      <th>optim_sigma</th>\n",
       "    </tr>\n",
       "  </thead>\n",
       "  <tbody>\n",
       "    <tr>\n",
       "      <th>6.70016</th>\n",
       "      <td>40.5</td>\n",
       "    </tr>\n",
       "  </tbody>\n",
       "</table>\n",
       "</div>"
      ],
      "text/plain": [
       "         optim_sigma\n",
       "6.70016         40.5"
      ]
     },
     "execution_count": 688,
     "metadata": {},
     "output_type": "execute_result"
    }
   ],
   "source": [
    "sd = sds[0]\n",
    "KL = minKLs[0]\n",
    "tmp = df[df['sd_data']==sd]\n",
    "minSigma = np.array(tmp['sigma'][tmp['KL'] == KL])\n",
    "sd_data = np.array([sd]*len(minSigma))\n",
    "minSigmaDF = pd.DataFrame({\"optim_sigma\":minSigma}, index = sd_data)\n",
    "minSigmaDF.head()"
   ]
  },
  {
   "cell_type": "code",
   "execution_count": 689,
   "metadata": {},
   "outputs": [
    {
     "data": {
      "text/plain": [
       "array([40.5])"
      ]
     },
     "execution_count": 689,
     "metadata": {},
     "output_type": "execute_result"
    }
   ],
   "source": [
    "np.array(tmp['sigma'][tmp['KL'] == KL])"
   ]
  },
  {
   "cell_type": "code",
   "execution_count": 690,
   "metadata": {},
   "outputs": [],
   "source": [
    "for sd, KL in zip(sds[1:],minKLs[1:]):\n",
    "    tmp = df[df['sd_data']==sd]\n",
    "    minSigma = np.array(tmp['sigma'][tmp['KL'] == KL])\n",
    "    sd_data = np.array([sd]*len(minSigma))\n",
    "    tmpDf = pd.DataFrame({\"optim_sigma\":minSigma}, index = sd_data)\n",
    "    minSigmaDF = pd.concat([minSigmaDF,tmpDf])"
   ]
  },
  {
   "cell_type": "code",
   "execution_count": 691,
   "metadata": {},
   "outputs": [
    {
     "data": {
      "text/html": [
       "<div>\n",
       "<style>\n",
       "    .dataframe thead tr:only-child th {\n",
       "        text-align: right;\n",
       "    }\n",
       "\n",
       "    .dataframe thead th {\n",
       "        text-align: left;\n",
       "    }\n",
       "\n",
       "    .dataframe tbody tr th {\n",
       "        vertical-align: top;\n",
       "    }\n",
       "</style>\n",
       "<table border=\"1\" class=\"dataframe\">\n",
       "  <thead>\n",
       "    <tr style=\"text-align: right;\">\n",
       "      <th></th>\n",
       "      <th>optim_sigma</th>\n",
       "      <th>sd_data</th>\n",
       "    </tr>\n",
       "  </thead>\n",
       "  <tbody>\n",
       "    <tr>\n",
       "      <th>6.70016</th>\n",
       "      <td>40.50</td>\n",
       "      <td>6.70016</td>\n",
       "    </tr>\n",
       "    <tr>\n",
       "      <th>6.72320</th>\n",
       "      <td>48.75</td>\n",
       "      <td>6.72320</td>\n",
       "    </tr>\n",
       "    <tr>\n",
       "      <th>6.73319</th>\n",
       "      <td>42.75</td>\n",
       "      <td>6.73319</td>\n",
       "    </tr>\n",
       "    <tr>\n",
       "      <th>6.81304</th>\n",
       "      <td>45.00</td>\n",
       "      <td>6.81304</td>\n",
       "    </tr>\n",
       "    <tr>\n",
       "      <th>6.82458</th>\n",
       "      <td>47.25</td>\n",
       "      <td>6.82458</td>\n",
       "    </tr>\n",
       "  </tbody>\n",
       "</table>\n",
       "</div>"
      ],
      "text/plain": [
       "         optim_sigma  sd_data\n",
       "6.70016        40.50  6.70016\n",
       "6.72320        48.75  6.72320\n",
       "6.73319        42.75  6.73319\n",
       "6.81304        45.00  6.81304\n",
       "6.82458        47.25  6.82458"
      ]
     },
     "execution_count": 691,
     "metadata": {},
     "output_type": "execute_result"
    }
   ],
   "source": [
    "minSigmaDF['sd_data'] = np.array(minSigmaDF.index)\n",
    "minSigmaDF.sort_index(axis=1)\n",
    "minSigmaDF.head()"
   ]
  },
  {
   "cell_type": "code",
   "execution_count": 692,
   "metadata": {},
   "outputs": [
    {
     "data": {
      "text/plain": [
       "'./figures/N1000n50.pdf'"
      ]
     },
     "execution_count": 692,
     "metadata": {},
     "output_type": "execute_result"
    }
   ],
   "source": [
    "figure_file = \"./figures/N%dn%d.pdf\" %(N,n)\n",
    "figure_file"
   ]
  },
  {
   "cell_type": "code",
   "execution_count": 693,
   "metadata": {},
   "outputs": [
    {
     "data": {
      "image/png": "[encoded data removed]",
      "text/plain": [
       "<matplotlib.figure.Figure at 0x11ca066d8>"
      ]
     },
     "metadata": {},
     "output_type": "display_data"
    }
   ],
   "source": [
    "plt.plot(minSigmaDF.sd_data/n,minSigmaDF.optim_sigma, \"o\",ms=3)\n",
    "plt.xlim(0.1,0.3)\n",
    "plt.xlabel(\"sd_data/n\")\n",
    "plt.ylabel(\"optimal sigma\")\n",
    "plt.title(\"N = %d, n = %d\" %(N, n))\n",
    "plt.savefig(figure_file)"
   ]
  }
 ],
 "metadata": {
  "kernelspec": {
   "display_name": "Python 3",
   "language": "python",
   "name": "python3"
  },
  "language_info": {
   "codemirror_mode": {
    "name": "ipython",
    "version": 3
   },
   "file_extension": ".py",
   "mimetype": "text/x-python",
   "name": "python",
   "nbconvert_exporter": "python",
   "pygments_lexer": "ipython3",
   "version": "3.6.8"
  }
 },
 "nbformat": 4,
 "nbformat_minor": 2
}
